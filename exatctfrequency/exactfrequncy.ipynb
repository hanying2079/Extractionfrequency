{
 "cells": [
  {
   "cell_type": "code",
   "execution_count": 2,
   "id": "89457e26",
   "metadata": {},
   "outputs": [],
   "source": [
    "import cv2\n",
    "import numpy as np\n",
    "\n",
    "def fill_between_white_points(image, threshold_distance):\n",
    "    filled_image = image.copy()\n",
    "\n",
    "    # 水平方向\n",
    "    for row in range(image.shape[0]):\n",
    "        white_points = np.where(image[row, :] == 255)[0]  \n",
    "        \n",
    "        for i in range(len(white_points) - 1):\n",
    "            x1, x2 = white_points[i], white_points[i+1]\n",
    "            distance = x2 - x1\n",
    "\n",
    "            if distance < threshold_distance:\n",
    "                if np.any(image[row, x1+1:x2] == 0):\n",
    "                    filled_image[row, x1+1:x2] = 255\n",
    "\n",
    "    # 垂直方向\n",
    "    for col in range(image.shape[1]):\n",
    "        white_points = np.where(image[:, col] == 255)[0]  \n",
    "\n",
    "        for i in range(len(white_points) - 1):\n",
    "            y1, y2 = white_points[i], white_points[i+1]\n",
    "            distance = y2 - y1\n",
    "\n",
    "            if distance < threshold_distance:\n",
    "                if np.any(image[y1+1:y2, col] == 0):\n",
    "                    filled_image[y1+1:y2, col] = 255\n",
    "\n",
    "    return filled_image\n",
    "\n",
    "# 读取图像并转换为灰度图像\n",
    "image_path = '5.jpg'  # 替换为你的图像路径\n",
    "image = cv2.imread(image_path, cv2.IMREAD_GRAYSCALE)\n",
    "\n",
    "#gray_image = cv2.cvtColor(image, cv2.COLOR_BGR2GRAY)\n",
    "# 将图像二值化，将非黑色点设为白色，黑色点设为黑色\n",
    "_, image = cv2.threshold(image, 1, 255, cv2.THRESH_BINARY)\n",
    "\n",
    "\n",
    "# 定义参数\n",
    "threshold_distance = 10  # 最小距离阈值\n",
    "\n",
    "# 填充白色点之间的黑色像素\n",
    "filled_image = fill_between_white_points(image, threshold_distance)\n",
    "\n",
    "# 显示处理后的图像\n",
    "cv2.imshow('Filled Image', filled_image)\n",
    "cv2.waitKey(0)\n",
    "cv2.destroyAllWindows()\n"
   ]
  },
  {
   "cell_type": "code",
   "execution_count": 7,
   "id": "4bafd513",
   "metadata": {},
   "outputs": [
    {
     "name": "stdout",
     "output_type": "stream",
     "text": [
      "(0, 384, 512, 16)\n",
      "(0, 304, 512, 16)\n",
      "(40, 208, 472, 24)\n",
      "(0, 89, 512, 15)\n",
      "(512, 512, 3)\n"
     ]
    }
   ],
   "source": [
    "import cv2\n",
    "import numpy as np\n",
    "\n",
    "def fill_between_white_points(image, threshold_distance):\n",
    "    filled_image = image.copy()\n",
    "\n",
    "    # 水平方向\n",
    "    for row in range(image.shape[0]):\n",
    "        white_points = np.where(image[row, :] == 255)[0]  \n",
    "        \n",
    "        for i in range(len(white_points) - 1):\n",
    "            x1, x2 = white_points[i], white_points[i+1]\n",
    "            distance = x2 - x1\n",
    "\n",
    "            if distance < threshold_distance:\n",
    "                if np.any(image[row, x1+1:x2] == 0):\n",
    "                    filled_image[row, x1+1:x2] = 255\n",
    "\n",
    "    # 垂直方向\n",
    "    for col in range(image.shape[1]):\n",
    "        white_points = np.where(image[:, col] == 255)[0]  \n",
    "\n",
    "        for i in range(len(white_points) - 1):\n",
    "            y1, y2 = white_points[i], white_points[i+1]\n",
    "            distance = y2 - y1\n",
    "\n",
    "            if distance < threshold_distance:\n",
    "                if np.any(image[y1+1:y2, col] == 0):\n",
    "                    filled_image[y1+1:y2, col] = 255\n",
    "\n",
    "    return filled_image\n",
    "\n",
    "# 寻找8联通域外接矩形\n",
    "def find_external_rectangles(image):\n",
    "    # 寻找轮廓\n",
    "    contours, _ = cv2.findContours(image, cv2.RETR_EXTERNAL, cv2.CHAIN_APPROX_SIMPLE)\n",
    "\n",
    "    external_rectangles = []\n",
    "\n",
    "    # 对每个轮廓计算外接矩形\n",
    "    for contour in contours:\n",
    "        x, y, w, h = cv2.boundingRect(contour)\n",
    "        external_rectangles.append((x, y, w, h))\n",
    "\n",
    "    return external_rectangles\n",
    "\n",
    "# 读取图像并转换为灰度图像\n",
    "image_path = '5.jpg'  # 替换为你的图像路径5,141\n",
    "image = cv2.imread(image_path, cv2.IMREAD_GRAYSCALE)\n",
    "_, image = cv2.threshold(image, 1, 255, cv2.THRESH_BINARY)\n",
    "# 显示结果图像\n",
    "cv2.imshow('image', image)\n",
    "cv2.imwrite('image.jpg', image)\n",
    "cv2.waitKey(0)\n",
    "cv2.destroyAllWindows()\n",
    "\n",
    "# 定义参数\n",
    "threshold_distance = 10  # 最小距离阈值\n",
    "\n",
    "# 填充白色点之间的黑色像素\n",
    "filled_image = fill_between_white_points(image, threshold_distance)\n",
    "\n",
    "# 显示结果图像\n",
    "cv2.imshow('filled_image', filled_image)\n",
    "cv2.imwrite('filled_image.jpg', filled_image)\n",
    "cv2.waitKey(0)\n",
    "cv2.destroyAllWindows()\n",
    "\n",
    "# 寻找8联通域的外接矩形\n",
    "external_rectangles = find_external_rectangles(filled_image)\n",
    "\n",
    "# 在原始图像上绘制外接矩形\n",
    "output_image = cv2.cvtColor(image, cv2.COLOR_GRAY2BGR)\n",
    "for rect in external_rectangles:\n",
    "    x, y, w, h = rect\n",
    "    print(rect)\n",
    "    cv2.rectangle(output_image, (x, y), (x+w, y+h), (0, 255, 0), 2)\n",
    "\n",
    "# 显示结果图像\n",
    "cv2.imshow('External Rectangles', output_image)\n",
    "print(output_image.shape)\n",
    "cv2.imwrite('output_image.jpg', output_image)\n",
    "cv2.waitKey(0)\n",
    "cv2.destroyAllWindows()\n"
   ]
  },
  {
   "cell_type": "code",
   "execution_count": 8,
   "id": "446bffa6",
   "metadata": {},
   "outputs": [
    {
     "data": {
      "text/plain": [
       "[(0, 384, 512, 16), (0, 304, 512, 16), (40, 208, 472, 24), (0, 89, 512, 15)]"
      ]
     },
     "execution_count": 8,
     "metadata": {},
     "output_type": "execute_result"
    }
   ],
   "source": [
    "external_rectangles"
   ]
  },
  {
   "cell_type": "code",
   "execution_count": 9,
   "id": "9d387dd6",
   "metadata": {},
   "outputs": [
    {
     "name": "stdout",
     "output_type": "stream",
     "text": [
      "height: 380 392\n",
      "frequency: 5854.6875 6440.15625\n",
      "===============\n",
      "height: 300 312\n",
      "frequency: 9757.8125 10343.28125\n",
      "===============\n",
      "height: 204 216\n",
      "frequency: 14441.5625 15027.03125\n",
      "===============\n",
      "height: 85 97\n",
      "frequency: 20247.4609375 20832.9296875\n",
      "===============\n"
     ]
    }
   ],
   "source": [
    "maxfre=24980\n",
    "minfre=0\n",
    "for i in range(len(external_rectangles)):\n",
    "    lineheight1=external_rectangles[i][1]-4\n",
    "    lineheight2=external_rectangles[i][1]+external_rectangles[0][3]-8\n",
    "    print('height:',lineheight1,lineheight2)\n",
    "    linefre1=maxfre-maxfre*lineheight1/512\n",
    "    linefre2=maxfre-maxfre*lineheight2/512\n",
    "    print('frequency:',linefre2,linefre1)\n",
    "    print('===============')"
   ]
  },
  {
   "cell_type": "code",
   "execution_count": null,
   "id": "36c28ccb",
   "metadata": {},
   "outputs": [],
   "source": []
  },
  {
   "cell_type": "code",
   "execution_count": null,
   "id": "579da44d",
   "metadata": {},
   "outputs": [],
   "source": []
  }
 ],
 "metadata": {
  "kernelspec": {
   "display_name": "Python 3",
   "language": "python",
   "name": "python3"
  },
  "language_info": {
   "codemirror_mode": {
    "name": "ipython",
    "version": 3
   },
   "file_extension": ".py",
   "mimetype": "text/x-python",
   "name": "python",
   "nbconvert_exporter": "python",
   "pygments_lexer": "ipython3",
   "version": "3.7.3"
  }
 },
 "nbformat": 4,
 "nbformat_minor": 5
}
